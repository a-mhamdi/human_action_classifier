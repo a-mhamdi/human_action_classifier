{
 "cells": [
  {
   "cell_type": "code",
   "execution_count": 1,
   "id": "33ada679-9767-4f9a-ae1c-0d287264e006",
   "metadata": {},
   "outputs": [],
   "source": [
    "import os\n",
    "os.environ['YOLO_VERBOSE'] = 'False'"
   ]
  },
  {
   "cell_type": "code",
   "execution_count": 2,
   "id": "e0f2e83d-3952-40e5-9396-86bf45ef7059",
   "metadata": {},
   "outputs": [],
   "source": [
    "import sys\n",
    "import cv2\n",
    "from collections import defaultdict"
   ]
  },
  {
   "cell_type": "code",
   "execution_count": 3,
   "id": "bd531666-8371-4738-a740-910a57aaced2",
   "metadata": {},
   "outputs": [],
   "source": [
    "import torch\n",
    "import numpy as np\n",
    "import torchvision.transforms as transforms\n",
    "from PIL import Image"
   ]
  },
  {
   "cell_type": "code",
   "execution_count": 4,
   "id": "1f9da9c8-76f0-4db3-9330-baf755325bd4",
   "metadata": {},
   "outputs": [],
   "source": [
    "device = torch.device('cpu') # 'cuda:0' if torch.cuda.is_available() else 'cpu')"
   ]
  },
  {
   "cell_type": "code",
   "execution_count": 5,
   "id": "63773726-6165-4ead-9a92-b671d94d3990",
   "metadata": {},
   "outputs": [],
   "source": [
    "model = torch.load('models/model.pt', map_location=device)"
   ]
  },
  {
   "cell_type": "code",
   "execution_count": 6,
   "id": "c5d01263-22ce-406b-b668-588671266f2b",
   "metadata": {},
   "outputs": [],
   "source": [
    "from IPython.display import display, Image as IMG  # Import IPython display functionality\n",
    "import ipywidgets as widgets  # Import the ipywidgets library for creating interactive widgets\n",
    "import threading  # Import the threading library for multithreading"
   ]
  },
  {
   "cell_type": "code",
   "execution_count": 7,
   "id": "951a943a-2360-4a8a-b338-2caeec84ed48",
   "metadata": {},
   "outputs": [],
   "source": [
    "## Create a toggle button as a stop button\n",
    "stopButton = widgets.ToggleButton(\n",
    "    value=False,  # The initial state of the button is unselected\n",
    "    description='Stop',  # Text displayed on the button\n",
    "    disabled=False,  # The button is initially enabled\n",
    "    button_style='danger',  # The button style is red\n",
    "    tooltip='Description',  # Tooltip displayed when hovering over the button\n",
    "    icon='square'  # Icon displayed on the button\n",
    ")"
   ]
  },
  {
   "cell_type": "code",
   "execution_count": 8,
   "id": "51b94e62-a811-4870-a56c-dad96274899a",
   "metadata": {},
   "outputs": [],
   "source": [
    "class_names = {\n",
    "    0: 'calling',\n",
    "    1: 'clapping',\n",
    "    2: 'cycling',\n",
    "    3: 'dancing',\n",
    "    4: 'drinking',\n",
    "    5: 'eating',\n",
    "    6: 'fighting',\n",
    "    7: 'hugging',\n",
    "    8: 'laughing',\n",
    "    9: 'listening_to_music',\n",
    "    10: 'running',\n",
    "    11: 'sitting',\n",
    "    12: 'sleeping',\n",
    "    13: 'texting',\n",
    "    14: 'using_laptop'\n",
    "}"
   ]
  },
  {
   "cell_type": "code",
   "execution_count": 9,
   "id": "e5309a16-f047-43d6-9a5b-8fe981860d2d",
   "metadata": {},
   "outputs": [],
   "source": [
    "from utils.streaming import VStream\n",
    "from utils.tracking import track"
   ]
  },
  {
   "cell_type": "code",
   "execution_count": 10,
   "id": "de4299e3-007f-447a-9ee5-10d499ed28d5",
   "metadata": {},
   "outputs": [],
   "source": [
    "vstream = VStream()\n",
    "vstream.start()"
   ]
  },
  {
   "cell_type": "code",
   "execution_count": 11,
   "id": "d5c39e8e-be90-407e-8bbd-9847689fff52",
   "metadata": {},
   "outputs": [],
   "source": [
    "transform = transforms.Compose([\n",
    "        transforms.CenterCrop(256),\n",
    "        transforms.ToTensor(),\n",
    "        transforms.Normalize([0.485, 0.456, 0.406], [0.229, 0.224, 0.225])\n",
    "    ])"
   ]
  },
  {
   "cell_type": "markdown",
   "id": "dfa798c7-4187-49df-bcaf-bc908e288632",
   "metadata": {},
   "source": [
    "Define a function for displaying the video stream"
   ]
  },
  {
   "cell_type": "code",
   "execution_count": 12,
   "id": "bc637430-f97c-4cfe-9d31-dc67a94c5e1c",
   "metadata": {},
   "outputs": [],
   "source": [
    "def showStream(func): \n",
    "    def inner(*args, **kwargs):\n",
    "        display_handle = display(None, display_id=True) # Create a display handle for updating the displayed content\n",
    "        while True: # for _ in range(50):\n",
    "            try:           \n",
    "                button, the_frame, state, coords = func(*args, **kwargs)\n",
    "                for st, coord in zip(state, coords):\n",
    "                    cv2.putText(the_frame, class_names[st], coord, cv2.FONT_HERSHEY_SIMPLEX, 1, (0,0,255), 2, 1)\n",
    "                _, jpeg = cv2.imencode('.jpg', the_frame) # Encode the frame as JPEG format\n",
    "                display_handle.update(IMG(data=jpeg.tobytes())) # Update the displayed image\n",
    "                \n",
    "                if button.value == True: # Check if the button is pressed\n",
    "                    vstream.capture.release()\n",
    "                    cv2.destroyAllWindows()\n",
    "                    display_handle.update(None) # Clear the displayed content\n",
    "                \n",
    "            except Exception as e:\n",
    "                # print(f\"{type(e).__name__}: {str(e)}\")\n",
    "                continue\n",
    "        return display_handle\n",
    "    return inner"
   ]
  },
  {
   "cell_type": "markdown",
   "id": "24492c0e-68a2-4f85-8269-6b03f27d306c",
   "metadata": {},
   "source": [
    "Update the captured frame"
   ]
  },
  {
   "cell_type": "code",
   "execution_count": 13,
   "id": "ea61a15d-67a6-4d01-840b-7845546a350a",
   "metadata": {
    "scrolled": true
   },
   "outputs": [],
   "source": [
    "@showStream\n",
    "def getStream(button, transform, device, model):\n",
    "    button = button\n",
    "    coords, state = [], []\n",
    "    current_frame = vstream.read()\n",
    "    r = (1, 1)\n",
    "    boxes = track(current_frame, persist=False);\n",
    "    a = boxes.cpu().numpy().copy()\n",
    "    nrows, _ = a.shape\n",
    "    r = (1, 1)\n",
    "    for i in range(nrows):\n",
    "        x1, y1, x2, y2 = ( a[i][:] ).astype(int)\n",
    "        coord = ( int( x1*r[0] ), int( y1*r[1] ) )       \n",
    "        coords.append(coord)\n",
    "        try:\n",
    "            orgx, orgy = int((x1+x2)/2), int((y1+y2)/2)\n",
    "            crop_img = current_frame[orgy-128:orgy+128, orgx-128:orgx+128]\n",
    "            \n",
    "            # crop_img = resized_frame[y1:y2, x1:x2]\n",
    "            # crop_img = cv2.resize(crop_img, (256, 256))  # Resize to match the classification model input size\n",
    "            \n",
    "            image = Image.fromarray(crop_img)\n",
    "            img = transform(image)\n",
    "            img = img.unsqueeze(0)\n",
    "            img = img.to(device)\n",
    "            with torch.no_grad():\n",
    "                outputs = model(img)\n",
    "                _, st = torch.max(outputs, 1)\n",
    "            state.append(st[0].item())\n",
    "        except:\n",
    "            pass\n",
    "    return button, current_frame, state, coords"
   ]
  },
  {
   "cell_type": "code",
   "id": "e89cc109-e17b-47f5-8da1-043aaa5a0bcd",
   "metadata": {
    "scrolled": true
   },
   "source": [
    "display(stopButton)\n",
    "thrd = threading.Thread(target=getStream, args=(stopButton, transform, device, model))\n",
    "thrd.start()"
   ],
   "outputs": [],
   "execution_count": null
  },
  {
   "cell_type": "code",
   "execution_count": 15,
   "id": "c8a1834e-49c5-4917-b971-7e73bab16850",
   "metadata": {},
   "outputs": [],
   "source": [
    "if thrd.is_alive:\n",
    "    print('Still running!')\n",
    "else:\n",
    "    print('Completed')"
   ]
  },
  {
   "cell_type": "code",
   "execution_count": null,
   "id": "de246aab-1db7-4e70-a9a1-ecbb457947bc",
   "metadata": {},
   "outputs": [],
   "source": []
  }
 ],
 "metadata": {
  "kernelspec": {
   "display_name": "Python 3 (ipykernel)",
   "language": "python",
   "name": "python3"
  },
  "language_info": {
   "codemirror_mode": {
    "name": "ipython",
    "version": 3
   },
   "file_extension": ".py",
   "mimetype": "text/x-python",
   "name": "python",
   "nbconvert_exporter": "python",
   "pygments_lexer": "ipython3",
   "version": "3.10.12"
  }
 },
 "nbformat": 4,
 "nbformat_minor": 5
}
